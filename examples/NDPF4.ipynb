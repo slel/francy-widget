{
 "cells": [
  {
   "cell_type": "markdown",
   "metadata": {},
   "source": [
    "# Non Decreasing Parking Functions\n",
    "A non-decreasing parking function of size n is a non-decreasing function f from {1,…,n} to itself such that for all i, one has f(i)≤i. (http://doc.sagemath.org/html/en/reference/combinat/sage/combinat/non_decreasing_parking_function.html)"
   ]
  },
  {
   "cell_type": "code",
   "execution_count": null,
   "metadata": {},
   "outputs": [],
   "source": [
    "from sage_francy import FrancyWidget"
   ]
  },
  {
   "cell_type": "code",
   "execution_count": null,
   "metadata": {},
   "outputs": [],
   "source": [
    "E = FiniteSetMaps(4)"
   ]
  },
  {
   "cell_type": "code",
   "execution_count": null,
   "metadata": {},
   "outputs": [],
   "source": [
    "f1 = E([0,0,2,3])\n",
    "f2 = E([0,1,1,3])\n",
    "f3 = E([0,1,2,2])\n",
    "H = E.submonoid([f1, f2, f3])"
   ]
  },
  {
   "cell_type": "code",
   "execution_count": null,
   "metadata": {},
   "outputs": [],
   "source": [
    "g = H.cayley_graph(side='twosided', simple=True)"
   ]
  },
  {
   "cell_type": "code",
   "execution_count": null,
   "metadata": {},
   "outputs": [],
   "source": [
    "import networkx\n",
    "G = networkx.DiGraph()\n",
    "G.add_edges_from([(e[0], e[1]) for e in g.edges()])"
   ]
  },
  {
   "cell_type": "markdown",
   "metadata": {},
   "source": [
    "For specific layout options, we write a function called _node__options_ , that should return an _options_ dictionary. In our case:\n",
    "- Idempotent maps will be highlighted with a diamond shaped node\n",
    "- Level sets will be grouped in the final layout"
   ]
  },
  {
   "cell_type": "code",
   "execution_count": null,
   "metadata": {},
   "outputs": [],
   "source": [
    "llvs = g.level_sets()\n",
    "levels = {}\n",
    "for lvs in llvs:\n",
    "    for n in lvs:\n",
    "        levels[n] = llvs.index(lvs)\n",
    "\n",
    "def node_options(n):\n",
    "    options = {}\n",
    "    if n.is_idempotent():\n",
    "        options['type'] = 'diamond'       \n",
    "    else:\n",
    "        options['type'] = 'circle'\n",
    "    options['layer'] = levels[n]\n",
    "    options['modal_menus'] = [{\n",
    "        'title': 'cardinality',\n",
    "        'funcname': 'cardinality',\n",
    "        'is_method': True\n",
    "    }]\n",
    "    return options"
   ]
  },
  {
   "cell_type": "code",
   "execution_count": null,
   "metadata": {},
   "outputs": [],
   "source": [
    "from sage_francy import FrancyWidget\n",
    "w = FrancyWidget(G, \n",
    "                  title=\"NDPF4\", height=600, weight=0, graphType=\"directed\",\n",
    "                  node_options=node_options)\n",
    "w"
   ]
  }
 ],
 "metadata": {
  "kernelspec": {
   "display_name": "SageMath 8.6",
   "language": "",
   "name": "sagemath"
  },
  "language_info": {
   "codemirror_mode": {
    "name": "ipython",
    "version": 3
   },
   "file_extension": ".py",
   "mimetype": "text/x-python",
   "name": "python",
   "nbconvert_exporter": "python",
   "pygments_lexer": "ipython3",
   "version": "3.6.6"
  }
 },
 "nbformat": 4,
 "nbformat_minor": 2
}
