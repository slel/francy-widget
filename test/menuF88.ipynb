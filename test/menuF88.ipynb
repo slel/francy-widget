{
 "cells": [
  {
   "cell_type": "code",
   "execution_count": null,
   "metadata": {},
   "outputs": [],
   "source": [
    "from francy_widget import FrancyWidget\n",
    "json7 = open(\"./json7.json\").read()\n",
    "wt = FrancyWidget(json7, test_json=True)\n",
    "#wt.adapter.canvas.__dict__\n",
    "#wt"
   ]
  },
  {
   "cell_type": "code",
   "execution_count": null,
   "metadata": {},
   "outputs": [],
   "source": [
    "from francy_widget import FrancyWidget, FrancyMenu\n",
    "menu_entry_1 = FrancyMenu.from_dict('mycanvas', 1, {'title': 'My function call', 'funcname':'len', 'known_args':['ok']})\n",
    "menu_entry_2 = FrancyMenu.from_dict('mycanvas', 2, {'title': 'My method call', 'funcname':'pop', 'funcscope': 'object', 'knownArgs':['[42,42,42]']})\n",
    "menu = FrancyMenu(canvas_id='mycanvas', title=\"My menu\", menus = [menu_entry_1, menu_entry_2])\n",
    "import networkx\n",
    "G = networkx.DiGraph()\n",
    "w1 = FrancyWidget(G, base_id='mycanvas', title=\"A menu\", menus=[menu])\n",
    "#w.make_json()\n",
    "#w.adapter.canvas.__dict__\n",
    "#w.adapter.to_json(G)\n",
    "w1"
   ]
  },
  {
   "cell_type": "code",
   "execution_count": null,
   "metadata": {},
   "outputs": [],
   "source": [
    "#w1.adapter.canvas.menus\n",
    "#w1.json_data"
   ]
  },
  {
   "cell_type": "code",
   "execution_count": null,
   "metadata": {},
   "outputs": [],
   "source": [
    "from ipywidgets import Output\n",
    "out = Output(layout={'border': '1px solid green'})\n",
    "out "
   ]
  },
  {
   "cell_type": "code",
   "execution_count": null,
   "metadata": {},
   "outputs": [],
   "source": [
    "def Trigger(s):\n",
    "    import json\n",
    "    try:\n",
    "        c = json.loads(s)\n",
    "        assert('funcname' in c and 'knownArgs' in c and type(c['knownArgs']) == type([]))\n",
    "    except:\n",
    "        out.append_stderr(\"Callback is ill-formed!\")\n",
    "        return\n",
    "    else:\n",
    "        if 'funcscope' in c and c['funcscope'] in ['object', 'class']:\n",
    "            o = eval(c['knownArgs'][0])\n",
    "            out.clear_output(wait=True)\n",
    "            with out:\n",
    "                print(getattr(o, c['funcname']).__call__(*c['knownArgs'][1:]))\n",
    "        else:\n",
    "            out.clear_output(wait=True)\n",
    "            with out:\n",
    "                print(eval(c['funcname']).__call__(*c['knownArgs']))"
   ]
  },
  {
   "cell_type": "code",
   "execution_count": null,
   "metadata": {},
   "outputs": [],
   "source": [
    "#from francy_widget import FrancyWidgetWithOutput\n",
    "#w = FrancyWidgetWithOutput(G, title=\"A menu, richer\", menus=[menu])\n",
    "#w"
   ]
  }
 ],
 "metadata": {
  "kernelspec": {
   "display_name": "Python 3",
   "language": "python",
   "name": "python3"
  },
  "language_info": {
   "codemirror_mode": {
    "name": "ipython",
    "version": 3
   },
   "file_extension": ".py",
   "mimetype": "text/x-python",
   "name": "python",
   "nbconvert_exporter": "python",
   "pygments_lexer": "ipython3",
   "version": "3.6.6"
  }
 },
 "nbformat": 4,
 "nbformat_minor": 2
}
