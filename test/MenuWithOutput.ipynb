{
 "cells": [
  {
   "cell_type": "markdown",
   "metadata": {},
   "source": [
    "## Test for Francy menus in Python\n",
    "Using an _ipywidgets_ **Output** to display the results."
   ]
  },
  {
   "cell_type": "code",
   "execution_count": null,
   "metadata": {},
   "outputs": [],
   "source": [
    "# A basic Francy widget, with a custom menu\n",
    "from francy_widget import FrancyWidget, FrancyMenu\n",
    "menu_entry_1 = FrancyMenu.from_dict('mycanvas', 1, {'title': 'My function call', 'funcname':'len', 'known_args':['ok']})\n",
    "menu_entry_2 = FrancyMenu.from_dict('mycanvas', 2, {'title': 'My method call', 'funcname':'pop', 'funcscope': 'object', 'knownArgs':['[42,42,42]']})\n",
    "menu = FrancyMenu(canvas_id='mycanvas', title=\"My menu\", menus = [menu_entry_1, menu_entry_2])\n",
    "import networkx\n",
    "G = networkx.DiGraph()\n",
    "w1 = FrancyWidget(G, base_id='mycanvas', title=\"A menu\", menus=[menu])\n",
    "w1"
   ]
  },
  {
   "cell_type": "code",
   "execution_count": null,
   "metadata": {},
   "outputs": [],
   "source": [
    "# An Output widget\n",
    "from ipywidgets import Output\n",
    "out = Output(layout={'border': '1px solid green'})\n",
    "out.append_stdout(\"Here comes the menu output.\")\n",
    "out "
   ]
  },
  {
   "cell_type": "code",
   "execution_count": null,
   "metadata": {},
   "outputs": [],
   "source": [
    "# The Trigger function. Please run this cell before trying the menus!\n",
    "def Trigger(s):\n",
    "    import json\n",
    "    try:\n",
    "        c = json.loads(s)\n",
    "        assert('funcname' in c and 'knownArgs' in c and type(c['knownArgs']) == type([]))\n",
    "    except:\n",
    "        out.append_stderr(\"Callback is ill-formed!\")\n",
    "        return\n",
    "    else:\n",
    "        if 'funcscope' in c and c['funcscope'] in ['object', 'class']:\n",
    "            o = eval(c['knownArgs'][0])\n",
    "            out.clear_output(wait=True)\n",
    "            with out:\n",
    "                print(getattr(o, c['funcname']).__call__(*c['knownArgs'][1:]))\n",
    "        else:\n",
    "            out.clear_output(wait=True)\n",
    "            with out:\n",
    "                print(eval(c['funcname']).__call__(*c['knownArgs']))"
   ]
  }
 ],
 "metadata": {
  "kernelspec": {
   "display_name": "Python 3",
   "language": "python",
   "name": "python3"
  },
  "language_info": {
   "codemirror_mode": {
    "name": "ipython",
    "version": 3
   },
   "file_extension": ".py",
   "mimetype": "text/x-python",
   "name": "python",
   "nbconvert_exporter": "python",
   "pygments_lexer": "ipython3",
   "version": "3.6.6"
  }
 },
 "nbformat": 4,
 "nbformat_minor": 2
}
